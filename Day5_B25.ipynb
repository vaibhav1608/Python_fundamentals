{
 "cells": [
  {
   "cell_type": "code",
   "execution_count": 1,
   "metadata": {},
   "outputs": [],
   "source": [
    "volkswagen_group = ['Volkswagen Passenger Cars', 'Audi', 'ŠKODA', 'Bentley', 'Bugatti']"
   ]
  },
  {
   "cell_type": "code",
   "execution_count": 2,
   "metadata": {},
   "outputs": [
    {
     "name": "stdout",
     "output_type": "stream",
     "text": [
      "['Volkswagen Passenger Cars', 'Audi', 'ŠKODA', 'Bentley', 'Bugatti']\n"
     ]
    }
   ],
   "source": [
    "print(volkswagen_group)"
   ]
  },
  {
   "cell_type": "code",
   "execution_count": 3,
   "metadata": {},
   "outputs": [
    {
     "data": {
      "text/plain": [
       "list"
      ]
     },
     "execution_count": 3,
     "metadata": {},
     "output_type": "execute_result"
    }
   ],
   "source": [
    "type(volkswagen_group)"
   ]
  },
  {
   "cell_type": "code",
   "execution_count": 4,
   "metadata": {},
   "outputs": [
    {
     "name": "stdout",
     "output_type": "stream",
     "text": [
      "highest selling models, Volkswagen Passenger Cars\n"
     ]
    }
   ],
   "source": [
    "print(f\"highest selling models, {volkswagen_group[0]}\")"
   ]
  },
  {
   "cell_type": "code",
   "execution_count": 5,
   "metadata": {},
   "outputs": [
    {
     "name": "stdout",
     "output_type": "stream",
     "text": [
      "highest selling models, Audi\n"
     ]
    }
   ],
   "source": [
    "print(f\"highest selling models, {volkswagen_group[1]}\")"
   ]
  },
  {
   "cell_type": "code",
   "execution_count": 6,
   "metadata": {},
   "outputs": [
    {
     "name": "stdout",
     "output_type": "stream",
     "text": [
      "highest selling models, ŠKODA\n"
     ]
    }
   ],
   "source": [
    "print(f\"highest selling models, {volkswagen_group[2]}\")"
   ]
  },
  {
   "cell_type": "code",
   "execution_count": 7,
   "metadata": {},
   "outputs": [
    {
     "name": "stdout",
     "output_type": "stream",
     "text": [
      "Volkswagen Passenger Cars\n",
      "Audi\n",
      "ŠKODA\n",
      "Bentley\n",
      "Bugatti\n"
     ]
    }
   ],
   "source": [
    "for dasAuto in volkswagen_group:\n",
    "\tprint(dasAuto)"
   ]
  },
  {
   "cell_type": "code",
   "execution_count": 8,
   "metadata": {},
   "outputs": [
    {
     "name": "stdout",
     "output_type": "stream",
     "text": [
      "highest selling models, Volkswagen Passenger Cars\n",
      "highest selling models, Audi\n",
      "highest selling models, ŠKODA\n",
      "highest selling models, Bentley\n",
      "highest selling models, Bugatti\n"
     ]
    }
   ],
   "source": [
    "for dasAuto in volkswagen_group:\n",
    "\tprint(f\"highest selling models, {dasAuto}\")"
   ]
  },
  {
   "cell_type": "code",
   "execution_count": 9,
   "metadata": {},
   "outputs": [
    {
     "name": "stdout",
     "output_type": "stream",
     "text": [
      "highest selling models, Volkswagen Passenger Cars\n",
      "\n",
      "\n",
      "highest selling models, Audi\n",
      "\n",
      "\n",
      "highest selling models, ŠKODA\n",
      "\n",
      "\n",
      "highest selling models, Bentley\n",
      "\n",
      "\n",
      "highest selling models, Bugatti\n",
      "\n",
      "\n"
     ]
    }
   ],
   "source": [
    "for dasAuto in volkswagen_group:\n",
    "\tprint(f\"highest selling models, {dasAuto}\")\n",
    "\tprint(\"\\n\")"
   ]
  },
  {
   "cell_type": "code",
   "execution_count": 11,
   "metadata": {},
   "outputs": [
    {
     "name": "stdout",
     "output_type": "stream",
     "text": [
      "highest selling models, Volkswagen Passenger Cars\n",
      "\n",
      "\n",
      "highest selling models, Audi\n",
      "\n",
      "\n",
      "highest selling models, ŠKODA\n",
      "\n",
      "\n",
      "highest selling models, Bentley\n",
      "\n",
      "\n",
      "highest selling models, Bugatti\n",
      "\n",
      "\n",
      "Das Auto!!!\n"
     ]
    }
   ],
   "source": [
    "for dasAuto in volkswagen_group:\n",
    "\tprint(f\"highest selling models, {dasAuto}\")\n",
    "\tprint(\"\\n\")\n",
    "print(\"Das Auto!!!\")"
   ]
  },
  {
   "cell_type": "code",
   "execution_count": null,
   "metadata": {},
   "outputs": [],
   "source": []
  }
 ],
 "metadata": {
  "kernelspec": {
   "display_name": "Python 3",
   "language": "python",
   "name": "python3"
  },
  "language_info": {
   "codemirror_mode": {
    "name": "ipython",
    "version": 3
   },
   "file_extension": ".py",
   "mimetype": "text/x-python",
   "name": "python",
   "nbconvert_exporter": "python",
   "pygments_lexer": "ipython3",
   "version": "3.7.6"
  }
 },
 "nbformat": 4,
 "nbformat_minor": 4
}
