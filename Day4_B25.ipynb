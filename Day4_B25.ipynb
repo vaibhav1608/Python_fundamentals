{
 "cells": [
  {
   "cell_type": "code",
   "execution_count": 1,
   "metadata": {},
   "outputs": [
    {
     "name": "stdout",
     "output_type": "stream",
     "text": [
      "['vento', 't-cross', 'polo', 't-roc', 'tiguan', 'golf']\n"
     ]
    },
    {
     "data": {
      "text/plain": [
       "list"
      ]
     },
     "execution_count": 1,
     "metadata": {},
     "output_type": "execute_result"
    }
   ],
   "source": [
    "volkawagan_models = ['vento', 't-cross', 'polo', 't-roc', 'tiguan', 'golf']\n",
    "print(volkawagan_models)\n",
    "type(volkawagan_models)"
   ]
  },
  {
   "cell_type": "code",
   "execution_count": 2,
   "metadata": {},
   "outputs": [
    {
     "name": "stdout",
     "output_type": "stream",
     "text": [
      "t-cross\n"
     ]
    }
   ],
   "source": [
    "print(volkawagan_models[1])"
   ]
  },
  {
   "cell_type": "code",
   "execution_count": 3,
   "metadata": {},
   "outputs": [],
   "source": [
    "volkswagen_group = ['Volkswagen Passenger Cars', 'Audi', 'ŠKODA', 'Bentley', 'Bugatti']"
   ]
  },
  {
   "cell_type": "code",
   "execution_count": 4,
   "metadata": {},
   "outputs": [
    {
     "name": "stdout",
     "output_type": "stream",
     "text": [
      "['Volkswagen Passenger Cars', 'Audi', 'ŠKODA', 'Bentley', 'Bugatti']\n"
     ]
    }
   ],
   "source": [
    "print(volkswagen_group)"
   ]
  },
  {
   "cell_type": "code",
   "execution_count": 5,
   "metadata": {},
   "outputs": [
    {
     "data": {
      "text/plain": [
       "list"
      ]
     },
     "execution_count": 5,
     "metadata": {},
     "output_type": "execute_result"
    }
   ],
   "source": [
    "type(volkswagen_group)"
   ]
  },
  {
   "cell_type": "code",
   "execution_count": 6,
   "metadata": {},
   "outputs": [],
   "source": [
    "volkswagen_group.append('Lamborghini')"
   ]
  },
  {
   "cell_type": "code",
   "execution_count": 7,
   "metadata": {},
   "outputs": [
    {
     "name": "stdout",
     "output_type": "stream",
     "text": [
      "['Volkswagen Passenger Cars', 'Audi', 'ŠKODA', 'Bentley', 'Bugatti', 'Lamborghini']\n"
     ]
    }
   ],
   "source": [
    "print(volkswagen_group)"
   ]
  },
  {
   "cell_type": "code",
   "execution_count": 8,
   "metadata": {},
   "outputs": [],
   "source": [
    "volkswagen_group.append('Porsche')"
   ]
  },
  {
   "cell_type": "code",
   "execution_count": 9,
   "metadata": {},
   "outputs": [
    {
     "name": "stdout",
     "output_type": "stream",
     "text": [
      "['Volkswagen Passenger Cars', 'Audi', 'ŠKODA', 'Bentley', 'Bugatti', 'Lamborghini', 'Porsche']\n"
     ]
    }
   ],
   "source": [
    "print(volkswagen_group)"
   ]
  },
  {
   "cell_type": "code",
   "execution_count": 10,
   "metadata": {},
   "outputs": [],
   "source": [
    "volkswagen_group.insert(2, 'Ducati')"
   ]
  },
  {
   "cell_type": "code",
   "execution_count": 11,
   "metadata": {},
   "outputs": [
    {
     "name": "stdout",
     "output_type": "stream",
     "text": [
      "['Volkswagen Passenger Cars', 'Audi', 'Ducati', 'ŠKODA', 'Bentley', 'Bugatti', 'Lamborghini', 'Porsche']\n"
     ]
    }
   ],
   "source": [
    "print(volkswagen_group)"
   ]
  },
  {
   "cell_type": "code",
   "execution_count": 12,
   "metadata": {},
   "outputs": [],
   "source": [
    "volkswagen_group[0] = 'Volkswagen Commercial Vehicles'"
   ]
  },
  {
   "cell_type": "code",
   "execution_count": 13,
   "metadata": {},
   "outputs": [
    {
     "name": "stdout",
     "output_type": "stream",
     "text": [
      "['Volkswagen Commercial Vehicles', 'Audi', 'Ducati', 'ŠKODA', 'Bentley', 'Bugatti', 'Lamborghini', 'Porsche']\n"
     ]
    }
   ],
   "source": [
    "print(volkswagen_group)"
   ]
  },
  {
   "cell_type": "code",
   "execution_count": 14,
   "metadata": {},
   "outputs": [],
   "source": [
    "del volkswagen_group[0]"
   ]
  },
  {
   "cell_type": "code",
   "execution_count": 15,
   "metadata": {},
   "outputs": [
    {
     "name": "stdout",
     "output_type": "stream",
     "text": [
      "['Audi', 'Ducati', 'ŠKODA', 'Bentley', 'Bugatti', 'Lamborghini', 'Porsche']\n"
     ]
    }
   ],
   "source": [
    "print(volkswagen_group)"
   ]
  },
  {
   "cell_type": "code",
   "execution_count": null,
   "metadata": {},
   "outputs": [],
   "source": []
  }
 ],
 "metadata": {
  "kernelspec": {
   "display_name": "Python 3",
   "language": "python",
   "name": "python3"
  },
  "language_info": {
   "codemirror_mode": {
    "name": "ipython",
    "version": 3
   },
   "file_extension": ".py",
   "mimetype": "text/x-python",
   "name": "python",
   "nbconvert_exporter": "python",
   "pygments_lexer": "ipython3",
   "version": "3.7.6"
  }
 },
 "nbformat": 4,
 "nbformat_minor": 4
}
